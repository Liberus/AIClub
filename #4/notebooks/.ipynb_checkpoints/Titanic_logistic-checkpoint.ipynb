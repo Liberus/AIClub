{
 "cells": [
  {
   "cell_type": "markdown",
   "metadata": {
    "_cell_guid": "0bd69447-6990-4972-b967-11acf97246d1",
    "_execution_state": "idle",
    "_uuid": "07183b7e9b11dfa4a0bafe6eab0379ffeb25d3d8"
   },
   "source": [
    "# Titanic Prediction using Python\n",
    "### A huge thank you to Jose Portilla and his Udemy course for teaching me https://www.udemy.com/python-for-data-science-and-machine-learning-bootcamp/learn/v4"
   ]
  },
  {
   "cell_type": "markdown",
   "metadata": {
    "_cell_guid": "6b340d12-953b-41b0-bd50-62776d644e02",
    "_execution_state": "idle",
    "_uuid": "409e41d03ae8eb482d8b422f40ecf89cbc97788d"
   },
   "source": [
    "## Imports and reading in files"
   ]
  },
  {
   "cell_type": "code",
   "execution_count": 1,
   "metadata": {
    "_cell_guid": "f3869157-12f9-41e9-94be-4bdc73c090b5",
    "_execution_state": "idle",
    "_uuid": "4fdd229f5baf94d1a132155873b5e6159ea1d0f4"
   },
   "outputs": [
    {
     "ename": "FileNotFoundError",
     "evalue": "[WinError 2] The system cannot find the file specified",
     "output_type": "error",
     "traceback": [
      "\u001b[1;31m---------------------------------------------------------------------------\u001b[0m",
      "\u001b[1;31mFileNotFoundError\u001b[0m                         Traceback (most recent call last)",
      "\u001b[1;32m<ipython-input-1-56d3d14d803a>\u001b[0m in \u001b[0;36m<module>\u001b[1;34m()\u001b[0m\n\u001b[0;32m      6\u001b[0m \u001b[1;33m\u001b[0m\u001b[0m\n\u001b[0;32m      7\u001b[0m \u001b[1;32mfrom\u001b[0m \u001b[0msubprocess\u001b[0m \u001b[1;32mimport\u001b[0m \u001b[0mcheck_output\u001b[0m\u001b[1;33m\u001b[0m\u001b[0m\n\u001b[1;32m----> 8\u001b[1;33m \u001b[0mprint\u001b[0m\u001b[1;33m(\u001b[0m\u001b[0mcheck_output\u001b[0m\u001b[1;33m(\u001b[0m\u001b[1;33m[\u001b[0m\u001b[1;34m\"ls\"\u001b[0m\u001b[1;33m,\u001b[0m \u001b[1;34m\"../input\"\u001b[0m\u001b[1;33m]\u001b[0m\u001b[1;33m)\u001b[0m\u001b[1;33m.\u001b[0m\u001b[0mdecode\u001b[0m\u001b[1;33m(\u001b[0m\u001b[1;34m\"utf8\"\u001b[0m\u001b[1;33m)\u001b[0m\u001b[1;33m)\u001b[0m\u001b[1;33m\u001b[0m\u001b[0m\n\u001b[0m\u001b[0;32m      9\u001b[0m \u001b[1;33m\u001b[0m\u001b[0m\n\u001b[0;32m     10\u001b[0m \u001b[1;32mimport\u001b[0m \u001b[0mwarnings\u001b[0m\u001b[1;33m\u001b[0m\u001b[0m\n",
      "\u001b[1;32md:\\ProgramData\\Anaconda\\lib\\subprocess.py\u001b[0m in \u001b[0;36mcheck_output\u001b[1;34m(timeout, *popenargs, **kwargs)\u001b[0m\n\u001b[0;32m    334\u001b[0m \u001b[1;33m\u001b[0m\u001b[0m\n\u001b[0;32m    335\u001b[0m     return run(*popenargs, stdout=PIPE, timeout=timeout, check=True,\n\u001b[1;32m--> 336\u001b[1;33m                **kwargs).stdout\n\u001b[0m\u001b[0;32m    337\u001b[0m \u001b[1;33m\u001b[0m\u001b[0m\n\u001b[0;32m    338\u001b[0m \u001b[1;33m\u001b[0m\u001b[0m\n",
      "\u001b[1;32md:\\ProgramData\\Anaconda\\lib\\subprocess.py\u001b[0m in \u001b[0;36mrun\u001b[1;34m(input, timeout, check, *popenargs, **kwargs)\u001b[0m\n\u001b[0;32m    401\u001b[0m         \u001b[0mkwargs\u001b[0m\u001b[1;33m[\u001b[0m\u001b[1;34m'stdin'\u001b[0m\u001b[1;33m]\u001b[0m \u001b[1;33m=\u001b[0m \u001b[0mPIPE\u001b[0m\u001b[1;33m\u001b[0m\u001b[0m\n\u001b[0;32m    402\u001b[0m \u001b[1;33m\u001b[0m\u001b[0m\n\u001b[1;32m--> 403\u001b[1;33m     \u001b[1;32mwith\u001b[0m \u001b[0mPopen\u001b[0m\u001b[1;33m(\u001b[0m\u001b[1;33m*\u001b[0m\u001b[0mpopenargs\u001b[0m\u001b[1;33m,\u001b[0m \u001b[1;33m**\u001b[0m\u001b[0mkwargs\u001b[0m\u001b[1;33m)\u001b[0m \u001b[1;32mas\u001b[0m \u001b[0mprocess\u001b[0m\u001b[1;33m:\u001b[0m\u001b[1;33m\u001b[0m\u001b[0m\n\u001b[0m\u001b[0;32m    404\u001b[0m         \u001b[1;32mtry\u001b[0m\u001b[1;33m:\u001b[0m\u001b[1;33m\u001b[0m\u001b[0m\n\u001b[0;32m    405\u001b[0m             \u001b[0mstdout\u001b[0m\u001b[1;33m,\u001b[0m \u001b[0mstderr\u001b[0m \u001b[1;33m=\u001b[0m \u001b[0mprocess\u001b[0m\u001b[1;33m.\u001b[0m\u001b[0mcommunicate\u001b[0m\u001b[1;33m(\u001b[0m\u001b[0minput\u001b[0m\u001b[1;33m,\u001b[0m \u001b[0mtimeout\u001b[0m\u001b[1;33m=\u001b[0m\u001b[0mtimeout\u001b[0m\u001b[1;33m)\u001b[0m\u001b[1;33m\u001b[0m\u001b[0m\n",
      "\u001b[1;32md:\\ProgramData\\Anaconda\\lib\\subprocess.py\u001b[0m in \u001b[0;36m__init__\u001b[1;34m(self, args, bufsize, executable, stdin, stdout, stderr, preexec_fn, close_fds, shell, cwd, env, universal_newlines, startupinfo, creationflags, restore_signals, start_new_session, pass_fds, encoding, errors)\u001b[0m\n\u001b[0;32m    705\u001b[0m                                 \u001b[0mc2pread\u001b[0m\u001b[1;33m,\u001b[0m \u001b[0mc2pwrite\u001b[0m\u001b[1;33m,\u001b[0m\u001b[1;33m\u001b[0m\u001b[0m\n\u001b[0;32m    706\u001b[0m                                 \u001b[0merrread\u001b[0m\u001b[1;33m,\u001b[0m \u001b[0merrwrite\u001b[0m\u001b[1;33m,\u001b[0m\u001b[1;33m\u001b[0m\u001b[0m\n\u001b[1;32m--> 707\u001b[1;33m                                 restore_signals, start_new_session)\n\u001b[0m\u001b[0;32m    708\u001b[0m         \u001b[1;32mexcept\u001b[0m\u001b[1;33m:\u001b[0m\u001b[1;33m\u001b[0m\u001b[0m\n\u001b[0;32m    709\u001b[0m             \u001b[1;31m# Cleanup if the child failed starting.\u001b[0m\u001b[1;33m\u001b[0m\u001b[1;33m\u001b[0m\u001b[0m\n",
      "\u001b[1;32md:\\ProgramData\\Anaconda\\lib\\subprocess.py\u001b[0m in \u001b[0;36m_execute_child\u001b[1;34m(self, args, executable, preexec_fn, close_fds, pass_fds, cwd, env, startupinfo, creationflags, shell, p2cread, p2cwrite, c2pread, c2pwrite, errread, errwrite, unused_restore_signals, unused_start_new_session)\u001b[0m\n\u001b[0;32m    988\u001b[0m                                          \u001b[0menv\u001b[0m\u001b[1;33m,\u001b[0m\u001b[1;33m\u001b[0m\u001b[0m\n\u001b[0;32m    989\u001b[0m                                          \u001b[0mcwd\u001b[0m\u001b[1;33m,\u001b[0m\u001b[1;33m\u001b[0m\u001b[0m\n\u001b[1;32m--> 990\u001b[1;33m                                          startupinfo)\n\u001b[0m\u001b[0;32m    991\u001b[0m             \u001b[1;32mfinally\u001b[0m\u001b[1;33m:\u001b[0m\u001b[1;33m\u001b[0m\u001b[0m\n\u001b[0;32m    992\u001b[0m                 \u001b[1;31m# Child is launched. Close the parent's copy of those pipe\u001b[0m\u001b[1;33m\u001b[0m\u001b[1;33m\u001b[0m\u001b[0m\n",
      "\u001b[1;31mFileNotFoundError\u001b[0m: [WinError 2] The system cannot find the file specified"
     ]
    }
   ],
   "source": [
    "import pandas as pd\n",
    "import numpy as np\n",
    "import seaborn as sns\n",
    "import matplotlib.pyplot as plt\n",
    "%matplotlib inline\n",
    "\n",
    "from subprocess import check_output\n",
    "#print(check_output([\"ls\", \"../input\"]).decode(\"utf8\"))\n",
    "\n",
    "import warnings\n",
    "warnings.filterwarnings('ignore')\n"
   ]
  },
  {
   "cell_type": "code",
   "execution_count": null,
   "metadata": {
    "_cell_guid": "5f7408e7-a053-4861-a7db-b3d1e00fb77a",
    "_execution_state": "idle",
    "_uuid": "693cd43662518d8af1d562b71396cc599f1bc1e3",
    "collapsed": true
   },
   "outputs": [],
   "source": [
    "df = pd.read_csv(\"../input/train.csv\")"
   ]
  },
  {
   "cell_type": "code",
   "execution_count": null,
   "metadata": {
    "_cell_guid": "0129b56b-c792-4fc6-95b5-1afd24d5c4ba",
    "_execution_state": "idle",
    "_uuid": "773c008ff7a7d8c395078a838ecf5eb6c4fcb6a5",
    "collapsed": true
   },
   "outputs": [],
   "source": [
    "#Check that the file was read in properly and explore the columns\n",
    "df.head()"
   ]
  },
  {
   "cell_type": "markdown",
   "metadata": {
    "_cell_guid": "52938632-55cd-4bd5-ad9a-0dc905de9f70",
    "_execution_state": "idle",
    "_uuid": "0dd8f07fd00550568d3a1b88595068f7f0bd31ef"
   },
   "source": [
    "## Data exploration"
   ]
  },
  {
   "cell_type": "code",
   "execution_count": null,
   "metadata": {
    "_cell_guid": "59ccc104-493b-437c-994c-5a7a19d07955",
    "_execution_state": "idle",
    "_uuid": "dd0daa67fe04087fb33fb472f183a28986273bbd",
    "collapsed": true
   },
   "outputs": [],
   "source": [
    "plt.figure(figsize=(12,8))\n",
    "sns.heatmap(df.isnull(),cbar=False, yticklabels=False, cmap='viridis')"
   ]
  },
  {
   "cell_type": "markdown",
   "metadata": {
    "_cell_guid": "90cfc754-6257-4a06-9454-fc585c9da834",
    "_execution_state": "idle",
    "_uuid": "3fb06bc89e244f2c3b9de608208544059729753b"
   },
   "source": [
    "From the heat map, we can see that a lot of the 'Cabin' row information is missing. However, while the age column is also missing some data, we can use imputation to fill in some of the data later. Additionally, the 'Embarked' column has so few rows missing, that we can just delete those."
   ]
  },
  {
   "cell_type": "code",
   "execution_count": null,
   "metadata": {
    "_cell_guid": "d3742711-40fa-47b6-bcb0-a95ec4560144",
    "_execution_state": "idle",
    "_uuid": "62febb18cdedc10a5ba1681b33fac82f675a239b",
    "collapsed": true
   },
   "outputs": [],
   "source": [
    "sns.set_style('darkgrid')"
   ]
  },
  {
   "cell_type": "code",
   "execution_count": null,
   "metadata": {
    "_cell_guid": "cdf4187b-43e6-41af-abd9-5e9f4611ac4b",
    "_execution_state": "idle",
    "_uuid": "3124ce9a5a3286c41362194dbbc51b3641161c09",
    "collapsed": true
   },
   "outputs": [],
   "source": [
    "sns.countplot(x='Survived', data=df, hue='Pclass')"
   ]
  },
  {
   "cell_type": "markdown",
   "metadata": {
    "_cell_guid": "5e579544-b525-4eca-a095-5913f08457e7",
    "_execution_state": "idle",
    "_uuid": "515cacd2ff70f77a21effc3ff6dffa634f2294ae"
   },
   "source": [
    "We can see here that those who did not survive were predominantly from the 3rd Passenger Class (Pclass)."
   ]
  },
  {
   "cell_type": "code",
   "execution_count": null,
   "metadata": {
    "_cell_guid": "debc9053-784d-4934-b2c8-6fa8d4b3f749",
    "_execution_state": "idle",
    "_uuid": "ab72e9a84a399ef71160eb27bf4361cda91600e4",
    "collapsed": true
   },
   "outputs": [],
   "source": [
    "sns.countplot(x='SibSp', data=df, hue='Survived')"
   ]
  },
  {
   "cell_type": "code",
   "execution_count": null,
   "metadata": {
    "_cell_guid": "428c6f9e-e35f-4152-9365-b844545281b8",
    "_execution_state": "idle",
    "_uuid": "00459b863e0127cb0d2f9bd7ecffd9aa9fe115f9",
    "collapsed": true
   },
   "outputs": [],
   "source": [
    "df['Fare'].hist(bins=40)"
   ]
  },
  {
   "cell_type": "markdown",
   "metadata": {
    "_cell_guid": "5f05fe07-7732-46f5-90e1-3d9d33d1bcd6",
    "_execution_state": "idle",
    "_uuid": "00cbc7c157074efb35bdc52cd58880b4e5921d17"
   },
   "source": [
    "Here, we impute the age of those we do not have information on. We use a boxplot to estimate the median age of each class, and impute that into the age for the rows with missing age."
   ]
  },
  {
   "cell_type": "code",
   "execution_count": null,
   "metadata": {
    "_cell_guid": "248f2650-2310-4291-9a0b-ec3160e592ff",
    "_execution_state": "idle",
    "_uuid": "24f0efcbfe90c76105d846286854fde301a74efb",
    "collapsed": true
   },
   "outputs": [],
   "source": [
    "plt.figure(figsize=(12,6))\n",
    "sns.boxplot(x='Pclass', y='Age', data=df)"
   ]
  },
  {
   "cell_type": "code",
   "execution_count": null,
   "metadata": {
    "_cell_guid": "2f094d5d-3ac5-4b03-907a-b6e36a2489e8",
    "_execution_state": "idle",
    "_uuid": "2b4dfd63718b9172b1ade9ac75cda872b9fe07fe",
    "collapsed": true
   },
   "outputs": [],
   "source": [
    "def inpute_age(cols):\n",
    "    Age = cols[0]\n",
    "    Pclass = cols[1]\n",
    "    \n",
    "    if pd.isnull(Age):\n",
    "        if Pclass == 1:\n",
    "            return 37\n",
    "        elif Pclass == 2:\n",
    "            return 29\n",
    "        else: return 24\n",
    "    else: return Age"
   ]
  },
  {
   "cell_type": "code",
   "execution_count": null,
   "metadata": {
    "_cell_guid": "87547ef8-2f60-4104-b8b7-978ba770cd17",
    "_execution_state": "idle",
    "_uuid": "0720c1ff1a23be5509864450825fc1f2d82d74f0",
    "collapsed": true
   },
   "outputs": [],
   "source": [
    "df['Age']=df[['Age','Pclass']].apply(inpute_age, axis=1)"
   ]
  },
  {
   "cell_type": "code",
   "execution_count": null,
   "metadata": {
    "_cell_guid": "c4170754-00c0-4f2f-800c-ed19d2462cd5",
    "_execution_state": "idle",
    "_uuid": "de28c0c2adf5af525b83df19afbc7fe83ad48fe0",
    "collapsed": true
   },
   "outputs": [],
   "source": [
    "plt.figure(figsize=(12,8))\n",
    "sns.heatmap(df.isnull(),cbar=False, yticklabels=False, cmap='viridis')"
   ]
  },
  {
   "cell_type": "markdown",
   "metadata": {
    "_cell_guid": "53f6a54e-1bbb-4df1-9419-8f3f5c34f6fa",
    "_execution_state": "idle",
    "_uuid": "5f1fe7e3b6954d257800c9dc46cc8861fa21bffb"
   },
   "source": [
    "You can see now the data is cleaner, but we still need to clean the 'Cabin' and 'Embarked' columns. For now, we will simply drop the 'Cabin' column and drop the rows where 'Embarked' is missing."
   ]
  },
  {
   "cell_type": "code",
   "execution_count": null,
   "metadata": {
    "_cell_guid": "036f5642-eadb-4344-b690-4b4c6ae61d44",
    "_execution_state": "idle",
    "_uuid": "92745eafe0f4c319f0b706c02dfe99187105fd58",
    "collapsed": true
   },
   "outputs": [],
   "source": [
    "df.drop('Cabin', axis=1, inplace=True)"
   ]
  },
  {
   "cell_type": "code",
   "execution_count": null,
   "metadata": {
    "_cell_guid": "054b705f-d37e-4178-a80c-8314bcf21f98",
    "_execution_state": "idle",
    "_uuid": "5a44851769b5c5612af406d7d4bfd040d3cb4b1c",
    "collapsed": true
   },
   "outputs": [],
   "source": [
    "plt.figure(figsize=(12,6))\n",
    "sns.heatmap(df.isnull(),cbar=False, yticklabels=False, cmap='viridis')"
   ]
  },
  {
   "cell_type": "code",
   "execution_count": null,
   "metadata": {
    "_cell_guid": "6fcd7796-aefd-4193-936d-d669b20039e0",
    "_execution_state": "idle",
    "_uuid": "6c411ada1594fb55afb29c67f808462df60ddb76",
    "collapsed": true
   },
   "outputs": [],
   "source": [
    "df.dropna(inplace=True)"
   ]
  },
  {
   "cell_type": "code",
   "execution_count": null,
   "metadata": {
    "_cell_guid": "4b45a567-c5d1-469c-a559-b7ddbe386c40",
    "_execution_state": "idle",
    "_uuid": "5fff94d248bcc6e8226932a56ed1084b21b877d1",
    "collapsed": true
   },
   "outputs": [],
   "source": [
    "plt.figure(figsize=(12,6))\n",
    "sns.heatmap(df.isnull(),cbar=False, yticklabels=False, cmap='viridis')"
   ]
  },
  {
   "cell_type": "markdown",
   "metadata": {
    "_cell_guid": "2a8d2ca0-a05c-4dfd-972e-5f6647797022",
    "_execution_state": "idle",
    "_uuid": "fb2c0385a4f2fe30b22da60d85c583ec9dbb2bd4"
   },
   "source": [
    "The data is now clean of null values, but we still need to take care of objects that a machine learning algorithm can't handle, namely strings."
   ]
  },
  {
   "cell_type": "code",
   "execution_count": null,
   "metadata": {
    "_cell_guid": "9d0f603b-d655-4b57-ae3a-a4d030420116",
    "_execution_state": "idle",
    "_uuid": "380361912c14a39eff883d29096567344725c510",
    "collapsed": true
   },
   "outputs": [],
   "source": [
    "df.info()"
   ]
  },
  {
   "cell_type": "markdown",
   "metadata": {
    "_cell_guid": "829126a5-d93d-4bad-ac9a-f53711e3f247",
    "_execution_state": "idle",
    "_uuid": "f49c76a58ec6a2898d4147df524e03c605299787"
   },
   "source": [
    "We can see that 'Name', 'Sex', 'Ticket', and 'Embarked' are all objects. In this case, they indeed are all strings. We will use Pandas built in getDummies() funciton to convert those to numbers."
   ]
  },
  {
   "cell_type": "code",
   "execution_count": null,
   "metadata": {
    "_cell_guid": "2c7c8330-6a64-435b-ad3a-a3fc0894f3af",
    "_execution_state": "idle",
    "_uuid": "a9cc4cd395c0eef5328154c1460d31fcbcee27da",
    "collapsed": true
   },
   "outputs": [],
   "source": [
    "#We make a new 'Male columns because getDummies will drop one the the dummy variables\n",
    "#to ensure linear independence.\n",
    "df['Male'] = pd.get_dummies(df['Sex'], drop_first=True)"
   ]
  },
  {
   "cell_type": "code",
   "execution_count": null,
   "metadata": {
    "_cell_guid": "ed08af19-a1f6-4064-8141-a213c3e6dfb9",
    "_execution_state": "idle",
    "_uuid": "7de16a191a73564bc406aaf4b833e332edc17c0e",
    "collapsed": true
   },
   "outputs": [],
   "source": [
    "#The embarked column indicates where the passenger boarded the Titanic.\n",
    "#It has three values ['S','C','Q']\n",
    "embarked = pd.get_dummies(df['Embarked'], drop_first=True)\n",
    "df = pd.concat([df, embarked], axis=1)"
   ]
  },
  {
   "cell_type": "code",
   "execution_count": null,
   "metadata": {
    "_cell_guid": "48274961-7341-4b58-83d3-f02199b6db40",
    "_execution_state": "idle",
    "_uuid": "f0f12671cbbc5d018366a852b00368a5ff03475f",
    "collapsed": true
   },
   "outputs": [],
   "source": [
    "#These columns do not provide us any information for the following reasons:\n",
    "#PassengerID: we consider 'PassengerID' a randomly assigned ID thus not correlated with surviability\n",
    "#Name: we are not performing any feature extraction from the name, so we must drop tihs non-numerical column\n",
    "#Sex: the 'Male' column already captures all information about the sex of the passenger\n",
    "#Ticket: we are not performing any feature extraction, so we must drop this non-numerical column\n",
    "#Embarked: we have extracted the dummy values, so those two numerical dummy values encapsulate all the embarked info\n",
    "\n",
    "df.drop(['PassengerId', 'Name', 'Sex', 'Ticket', 'Embarked'], axis=1, inplace=True)"
   ]
  },
  {
   "cell_type": "code",
   "execution_count": null,
   "metadata": {
    "_cell_guid": "1088380d-feca-48f9-8932-6b49218e849a",
    "_execution_state": "idle",
    "_uuid": "1f8a997db6bee8d669aa6818d1f48d0dc3a6b5f5",
    "collapsed": true
   },
   "outputs": [],
   "source": [
    "#Take a look at our new dataframe\n",
    "df.head()"
   ]
  },
  {
   "cell_type": "code",
   "execution_count": null,
   "metadata": {
    "_cell_guid": "1920c67b-641b-40b5-b015-77d17ebbcf44",
    "_execution_state": "idle",
    "_uuid": "06ef694ed1bc6f6bb574b57ab41dd97859cfb2e5",
    "collapsed": true
   },
   "outputs": [],
   "source": [
    "df.info()"
   ]
  },
  {
   "cell_type": "markdown",
   "metadata": {
    "_cell_guid": "b8506c54-2dd5-46ab-ab6c-38a1f82d1110",
    "_execution_state": "idle",
    "_uuid": "539c55ea8337dd0b1792d7b4f2c4226f984ad9fc"
   },
   "source": [
    "##Build and train the model"
   ]
  },
  {
   "cell_type": "code",
   "execution_count": null,
   "metadata": {
    "_cell_guid": "d4fa8385-85ab-416a-aafd-13415a9512b3",
    "_execution_state": "idle",
    "_uuid": "ded9b4360db02587f1977fc3d47b946d4797fb7b",
    "collapsed": true
   },
   "outputs": [],
   "source": [
    "#Seperate the feature columns from the target column\n",
    "X = df.drop('Survived', axis=1)\n",
    "y = df['Survived']"
   ]
  },
  {
   "cell_type": "code",
   "execution_count": null,
   "metadata": {
    "_cell_guid": "c7c72a22-2346-406b-a470-392c4083b392",
    "_execution_state": "idle",
    "_uuid": "92a1213ede40ded8e80153fa8fe841bd5bad10ef",
    "collapsed": true
   },
   "outputs": [],
   "source": [
    "#Split the data into two. I don't think this is necessary since there are two files.\n",
    "#I will keep this here for now\n",
    "from sklearn.model_selection import train_test_split\n",
    "X_train, X_test, y_train, y_test = train_test_split(X,y, test_size=0.3)"
   ]
  },
  {
   "cell_type": "code",
   "execution_count": null,
   "metadata": {
    "_cell_guid": "8da84909-b2f7-4aa0-be5d-5c46cab71d1b",
    "_execution_state": "idle",
    "_uuid": "accd29cc3a075b81bd13129df840054224e8b396",
    "collapsed": true
   },
   "outputs": [],
   "source": [
    "from sklearn.linear_model import LogisticRegression\n",
    "logmodel = LogisticRegression()\n",
    "logmodel.fit(X, y)"
   ]
  },
  {
   "cell_type": "code",
   "execution_count": null,
   "metadata": {
    "_cell_guid": "ef5f966b-b8c6-4b9d-b3ee-455dbd53e35e",
    "_execution_state": "idle",
    "_uuid": "45fab0ccf873872eca09527ae9fa47fceee0e3b2",
    "collapsed": true
   },
   "outputs": [],
   "source": [
    "#Read in the test data\n",
    "test_df = pd.read_csv('../input/test.csv')"
   ]
  },
  {
   "cell_type": "code",
   "execution_count": null,
   "metadata": {
    "_cell_guid": "946f68e4-d359-48a0-aeb7-969bc4d3f4f4",
    "_execution_state": "idle",
    "_uuid": "0b86f9e7faaff6fe763dbe3cce6b0071a6ae4858",
    "collapsed": true
   },
   "outputs": [],
   "source": [
    "#Clean the test data the same way we did the training data\n",
    "test_df['Age']=test_df[['Age','Pclass']].apply(inpute_age, axis=1)\n",
    "test_df.drop('Cabin', axis=1, inplace=True)\n",
    "test_df.dropna(inplace=True)\n",
    "test_df['Male'] = pd.get_dummies(test_df['Sex'], drop_first=True)\n",
    "embarked = pd.get_dummies(test_df['Embarked'], drop_first=True)\n",
    "test_df = pd.concat([test_df, embarked], axis=1)\n",
    "pass_ids = test_df['PassengerId']\n",
    "test_df.drop(['PassengerId', 'Name', 'Sex', 'Ticket', 'Embarked'], axis=1, inplace=True)"
   ]
  },
  {
   "cell_type": "code",
   "execution_count": null,
   "metadata": {
    "_cell_guid": "9ec7a484-3259-47f6-a7ae-067979bc39b8",
    "_execution_state": "idle",
    "_uuid": "f8b930fdfa969b55c8ef15a27c8d91454983d5bb",
    "collapsed": true
   },
   "outputs": [],
   "source": [
    "test_df.tail()"
   ]
  },
  {
   "cell_type": "code",
   "execution_count": null,
   "metadata": {
    "_cell_guid": "70d73cb3-1c06-48cc-8fc4-538b42cdaddf",
    "_execution_state": "idle",
    "_uuid": "12b9c3816e860c4682dc89ed5939e7c5d19975ed",
    "collapsed": true
   },
   "outputs": [],
   "source": [
    "predictions = logmodel.predict(test_df)"
   ]
  },
  {
   "cell_type": "code",
   "execution_count": null,
   "metadata": {
    "_cell_guid": "323d6dcd-de82-41bd-b1d0-5772c1c6f412",
    "_execution_state": "idle",
    "_uuid": "065e3c6fa7df9db4388a8ab7415f091bc7074826",
    "collapsed": true
   },
   "outputs": [],
   "source": [
    "submission = pd.DataFrame({\n",
    "        \"PassengerId\": pass_ids,\n",
    "        \"Survived\": predictions\n",
    "    })\n",
    "submission.to_csv('titanic.csv', index=False)"
   ]
  }
 ],
 "metadata": {
  "kernelspec": {
   "display_name": "Python 3",
   "language": "python",
   "name": "python3"
  },
  "language_info": {
   "codemirror_mode": {
    "name": "ipython",
    "version": 3
   },
   "file_extension": ".py",
   "mimetype": "text/x-python",
   "name": "python",
   "nbconvert_exporter": "python",
   "pygments_lexer": "ipython3",
   "version": "3.6.1"
  }
 },
 "nbformat": 4,
 "nbformat_minor": 1
}
